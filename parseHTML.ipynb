{
 "cells": [
  {
   "cell_type": "markdown",
   "id": "2e7bd9a2",
   "metadata": {},
   "source": [
    "***\n",
    "## Import"
   ]
  },
  {
   "cell_type": "code",
   "execution_count": 1,
   "id": "542c52fe",
   "metadata": {},
   "outputs": [],
   "source": [
    "import requests\n",
    "import requests_cache\n",
    "from bs4 import BeautifulSoup\n",
    "import time\n",
    "import json\n",
    "import re\n",
    "import pandas as pd # Dùng để đọc và hiển thị file csv/tsv\n",
    "# YOUR CODE HERE (OPTION) \n",
    "import datetime\n",
    "# Nếu cần các thư viện khác thì bạn có thể import ở đây\n",
    "\n",
    "import urllib.robotparser # Kiểm tra file robot.txt có được phép crawl không"
   ]
  },
  {
   "cell_type": "code",
   "execution_count": 2,
   "id": "f239226c",
   "metadata": {},
   "outputs": [],
   "source": [
    "sleep_time = 1 # Đơn vị: giây"
   ]
  },
  {
   "cell_type": "markdown",
   "id": "bb00f7a9",
   "metadata": {},
   "source": [
    "## ParseHTML"
   ]
  },
  {
   "cell_type": "code",
   "execution_count": 79,
   "id": "2fefed2d",
   "metadata": {},
   "outputs": [
    {
     "name": "stdout",
     "output_type": "stream",
     "text": [
      "https://soundcloud.com/sieu-nhan-ruoi/sets/playlist-nhacviet-morning\n",
      "\n",
      "\n",
      "[]\t\n"
     ]
    }
   ],
   "source": [
    "def collect_playlist(playlist_url, playlist_file):\n",
    "    with open(playlist_file,'w', encoding='utf-8') as fo:\n",
    "        with open(playlist_url,'r', encoding='utf-8') as fin:\n",
    "            for url_text in fin.readlines():\n",
    "                print(url_text + '\\n')\n",
    "                time.sleep(sleep_time)\n",
    "                \n",
    "                req = requests.get(url_text.strip()).text\n",
    "                soup = BeautifulSoup(req,'html.parser')\n",
    "         \n",
    "                \n",
    "                title = soup.find_all('div',class_='fullHero__title')\n",
    "                \n",
    "                print(str(title) + \"\\t\")\n",
    "                \n",
    "collect_playlist('url.csv','Crawl_data.tsv')"
   ]
  },
  {
   "cell_type": "code",
   "execution_count": null,
   "id": "eeb23e00",
   "metadata": {},
   "outputs": [],
   "source": []
  },
  {
   "cell_type": "code",
   "execution_count": null,
   "id": "21cff6ab",
   "metadata": {},
   "outputs": [],
   "source": []
  }
 ],
 "metadata": {
  "kernelspec": {
   "display_name": "Python 3 (ipykernel)",
   "language": "python",
   "name": "python3"
  },
  "language_info": {
   "codemirror_mode": {
    "name": "ipython",
    "version": 3
   },
   "file_extension": ".py",
   "mimetype": "text/x-python",
   "name": "python",
   "nbconvert_exporter": "python",
   "pygments_lexer": "ipython3",
   "version": "3.8.8"
  }
 },
 "nbformat": 4,
 "nbformat_minor": 5
}
