{
 "cells": [
  {
   "cell_type": "markdown",
   "id": "1c9f2879",
   "metadata": {},
   "source": [
    "***\n",
    "## Import"
   ]
  },
  {
   "cell_type": "code",
   "execution_count": 1,
   "id": "b592756f",
   "metadata": {},
   "outputs": [],
   "source": [
    "import requests\n",
    "import requests_cache\n",
    "from bs4 import BeautifulSoup\n",
    "import time\n",
    "import json\n",
    "import re\n",
    "import pandas as pd # Dùng để đọc và hiển thị file csv/tsv\n",
    "# YOUR CODE HERE (OPTION) \n",
    "import datetime\n",
    "# Nếu cần các thư viện khác thì bạn có thể import ở đây\n",
    "\n",
    "import urllib.robotparser # Kiểm tra file robot.txt có được phép crawl không"
   ]
  },
  {
   "cell_type": "code",
   "execution_count": 2,
   "id": "db785e5c",
   "metadata": {},
   "outputs": [],
   "source": [
    "sleep_time = 1 # Đơn vị: giây"
   ]
  },
  {
   "cell_type": "markdown",
   "id": "851d9f57",
   "metadata": {},
   "source": [
    "## ParseHTML"
   ]
  },
  {
   "cell_type": "code",
   "execution_count": 29,
   "id": "d83ecda2",
   "metadata": {},
   "outputs": [
    {
     "name": "stdout",
     "output_type": "stream",
     "text": [
      "https://soundcloud.com/sieu-nhan-ruoi/sets/playlist-nhacviet-morning\n",
      "\n",
      "\n",
      "None\t\n"
     ]
    }
   ],
   "source": [
    "# profileHeaderInfo__userName\n",
    "def collect_playlist(playlist_url, playlist_file):\n",
    "    with open(playlist_file,'w', encoding='utf-8') as fo:\n",
    "        with open(playlist_url,'r', encoding='utf-8') as fin:\n",
    "            for url_text in fin.readlines():\n",
    "                print(url_text + '\\n')\n",
    "                time.sleep(sleep_time)\n",
    "                \n",
    "                req = requests.get(url_text)\n",
    "                html_text = req.text\n",
    "                soup = BeautifulSoup(html_text, features=\"lxml\")\n",
    "                \n",
    "                title = soup.find('div',class_='soundTitle__titleHeroContainer')\n",
    "                print(str(title) + \"\\t\")\n",
    "                \n",
    "collect_playlist('url.csv','dataframe.tsv')"
   ]
  },
  {
   "cell_type": "code",
   "execution_count": null,
   "id": "2213b818",
   "metadata": {},
   "outputs": [],
   "source": []
  },
  {
   "cell_type": "code",
   "execution_count": null,
   "id": "03518f30",
   "metadata": {},
   "outputs": [],
   "source": []
  }
 ],
 "metadata": {
  "kernelspec": {
   "display_name": "Python 3 (ipykernel)",
   "language": "python",
   "name": "python3"
  },
  "language_info": {
   "codemirror_mode": {
    "name": "ipython",
    "version": 3
   },
   "file_extension": ".py",
   "mimetype": "text/x-python",
   "name": "python",
   "nbconvert_exporter": "python",
   "pygments_lexer": "ipython3",
   "version": "3.8.8"
  }
 },
 "nbformat": 4,
 "nbformat_minor": 5
}
