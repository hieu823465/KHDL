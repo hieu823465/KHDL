{
 "cells": [
  {
   "cell_type": "markdown",
   "id": "356ba172",
   "metadata": {},
   "source": [
    "***\n",
    "## Import"
   ]
  },
  {
   "cell_type": "code",
   "execution_count": null,
   "id": "a7139208",
   "metadata": {},
   "outputs": [],
   "source": []
  },
  {
   "cell_type": "code",
   "execution_count": 1,
   "id": "5f7f19ef",
   "metadata": {},
   "outputs": [],
   "source": [
    "import requests\n",
    "import requests_cache\n",
    "import random\n",
    "from bs4 import BeautifulSoup\n",
    "from time import sleep\n",
    "import time\n",
    "import json\n",
    "import re\n",
    "import pandas as pd # Dùng để đọc và hiển thị file csv/tsv\n",
    "# YOUR CODE HERE (OPTION) \n",
    "import datetime\n",
    "# Nếu cần các thư viện khác thì bạn có thể import ở đây\n",
    "from selenium import webdriver\n",
    "from selenium.webdriver.chrome.service import Service\n",
    "from webdriver_manager.chrome import ChromeDriverManager\n",
    "\n",
    "import urllib.robotparser # Kiểm tra file robot.txt có được phép crawl không"
   ]
  },
  {
   "cell_type": "code",
   "execution_count": 2,
   "id": "7e4c9d81",
   "metadata": {},
   "outputs": [],
   "source": [
    "sleep_time = 1 # Đơn vị: giây"
   ]
  },
  {
   "cell_type": "markdown",
   "id": "ff1f4a21",
   "metadata": {},
   "source": [
    "## Collect Playlist"
   ]
  },
  {
   "cell_type": "code",
   "execution_count": 3,
   "id": "07e4555c",
   "metadata": {},
   "outputs": [
    {
     "name": "stderr",
     "output_type": "stream",
     "text": [
      "\n",
      "\n",
      "====== WebDriver manager ======\n",
      "Current google-chrome version is 95.0.4638\n",
      "Get LATEST chromedriver version for 95.0.4638 google-chrome\n",
      "Driver [/Users/trunghieu/.wdm/drivers/chromedriver/mac64/95.0.4638.69/chromedriver] found in cache\n"
     ]
    }
   ],
   "source": [
    "def collect_playlist(playlist_url, playlist_file):\n",
    "    s=Service(ChromeDriverManager().install())\n",
    "    \n",
    "    with open(playlist_file,'w', encoding='utf-8') as fo_playlist:\n",
    "        with open(playlist_url,'r', encoding='utf-8') as fin:\n",
    "            \n",
    "            # column for each csv file\n",
    "            fo_playlist.write('playlists\\ttracks\\n')\n",
    "    \n",
    "            # run per url to get playlist title and trackID\n",
    "            for url_text in fin.readlines():\n",
    "                time.sleep(sleep_time)\n",
    "                \n",
    "                driver = webdriver.Chrome(service=s)\n",
    "                driver.get(url_text.strip())\n",
    "                html_text = driver.page_source\n",
    "                \n",
    "                soup = BeautifulSoup(html_text,'lxml')\n",
    "                \n",
    "                #get playlist title\n",
    "                title = soup.find('h1',class_='soundTitle__title').text.strip()\n",
    "                fo_playlist.write(title + \"\\t\")\n",
    "                \n",
    "\n",
    "                #get trackIDs\n",
    "                trackItem_title = soup.find_all('a',class_='trackItem__trackTitle')\n",
    "                listTrackId = ''\n",
    "               \n",
    "                \n",
    "                # get tracklist\n",
    "                for index in range(0,len(trackItem_title)):\n",
    "                        listTrackId += trackItem_title[index].text + \",\"     \n",
    "   \n",
    "                fo_playlist.write(listTrackId.rstrip(',') +\"\\n\")\n",
    "                sleep(random.randint(2,5))\n",
    "                            \n",
    "collect_playlist('playlist_urls_file.txt','playlist.csv')"
   ]
  },
  {
   "cell_type": "markdown",
   "id": "cbb44285",
   "metadata": {},
   "source": [
    "## Collect Track"
   ]
  },
  {
   "cell_type": "code",
   "execution_count": 7,
   "id": "675ba438",
   "metadata": {},
   "outputs": [
    {
     "name": "stderr",
     "output_type": "stream",
     "text": [
      "\n",
      "\n",
      "====== WebDriver manager ======\n",
      "Current google-chrome version is 95.0.4638\n",
      "Get LATEST chromedriver version for 95.0.4638 google-chrome\n",
      "Driver [/Users/trunghieu/.wdm/drivers/chromedriver/mac64/95.0.4638.69/chromedriver] found in cache\n"
     ]
    },
    {
     "name": "stdout",
     "output_type": "stream",
     "text": [
      "https://soundcloud.com/enzoupload/acustico-1kilo-deixe-me-ir-download-freebaviera-knust-e-pablo-martins-1\n",
      "\n",
      "https://soundcloud.com/mixfeed/alok-sevenn-byob\n",
      "\n",
      "https://soundcloud.com/josef-boshra/ana-w-enta-2016\n",
      "\n",
      "https://soundcloud.com/yara-yussef/adele-set-fire-to-the-rain\n",
      "\n",
      "https://soundcloud.com/dj-spinking/adult-swim-dj-spinking-ft-tyga-asap-ferg-jeremih-velous-produced-by-vinylz-x-spinking\n",
      "\n",
      "https://soundcloud.com/liahany/amr-diab-khalek-fakerny-mp3\n",
      "\n",
      "https://soundcloud.com/iamjfernandez/animals-martin-garrix-hypnotik\n",
      "\n",
      "https://soundcloud.com/jonah_lieberman/andy-grammer-honey-im-good-2\n",
      "\n",
      "https://soundcloud.com/thehrchy/asap-rocky-lsd\n",
      "\n",
      "https://soundcloud.com/espacio-urbano-music/alexio-ft-daddy-yankee-nicky-jam-farruko-arcangel-de-la-ghetto-zion-y-nengo-flow-tumba-la-casa-remix\n",
      "\n",
      "https://soundcloud.com/adolfo-ayala-alen/avicii-the-nights\n",
      "\n",
      "https://soundcloud.com/derechtemythos/asap-rocky-big-spender\n",
      "\n",
      "https://soundcloud.com/nardeen-ibrahim/adele-when-we-were-young\n",
      "\n",
      "https://soundcloud.com/mady_vv/aventura-solo-por-un-beso\n"
     ]
    }
   ],
   "source": [
    "def collect_track(playlist_url, playlist_file):\n",
    "    s=Service(ChromeDriverManager().install())\n",
    "    \n",
    "    with open(playlist_file,'w', encoding='utf-8') as fo_playlist:\n",
    "        with open(playlist_url,'r', encoding='utf-8') as fin:\n",
    "        \n",
    "            # column for each csv file\n",
    "            fo_playlist.write('tracks\\tplay-repeated\\theart\\tcomment\\n')\n",
    "    \n",
    "            # run per url to get playlist title and trackID\n",
    "            for url_text in fin.readlines():\n",
    "                time.sleep(sleep_time)\n",
    "                print(url_text)\n",
    "                driver = webdriver.Chrome(service=s)\n",
    "                driver.get(url_text.strip())\n",
    "                sleep(random.randint(3,6))\n",
    "                html_text = driver.page_source\n",
    "                \n",
    "                soup = BeautifulSoup(html_text,'lxml')\n",
    "                \n",
    "                #get playlist title\n",
    "                title = soup.find('h1',{'class','soundTitle__title'})\n",
    "                fo_playlist.write(title.text.strip() + \"\\t\")\n",
    "                \n",
    "                #get Play\n",
    "                Time_Play = soup.find_all('span',class_='sc-ministats')\n",
    "                fo_playlist.write(Time_Play[0].text.split()[0].strip() + \"\\t\")\n",
    "                \n",
    "                #Get heart \n",
    "                heart = soup.find_all('li',class_='sc-ministats-item')\n",
    "                fo_playlist.write(heart[1]['title'].split()[0].strip() + \"\\t\")\n",
    "                \n",
    "                #Get comment\n",
    "                comment = soup.find('span', class_='commentsList__actualTitle')\n",
    "                fo_playlist.write(comment.text.split()[0].strip() + \"\\n\")\n",
    "                sleep(random.randint(7,10))\n",
    "                            \n",
    "collect_track('track_urls_file.txt','tracks.csv')"
   ]
  },
  {
   "cell_type": "markdown",
   "id": "92bf4296",
   "metadata": {},
   "source": [
    "## Collect User"
   ]
  },
  {
   "cell_type": "code",
   "execution_count": 12,
   "id": "852a96da",
   "metadata": {},
   "outputs": [
    {
     "name": "stderr",
     "output_type": "stream",
     "text": [
      "\n",
      "\n",
      "====== WebDriver manager ======\n",
      "Current google-chrome version is 95.0.4638\n",
      "Get LATEST chromedriver version for 95.0.4638 google-chrome\n",
      "Driver [/Users/trunghieu/.wdm/drivers/chromedriver/mac64/95.0.4638.69/chromedriver] found in cache\n"
     ]
    },
    {
     "name": "stdout",
     "output_type": "stream",
     "text": [
      "https://soundcloud.com/alithegreatxo\n",
      "\n",
      "https://soundcloud.com/askpat\n",
      "\n",
      "https://soundcloud.com/americarnage\n",
      "\n",
      "https://soundcloud.com/atomicdubstep\n",
      "\n",
      "https://soundcloud.com/apmreports\n",
      "\n",
      "https://soundcloud.com/abc_rn\n",
      "\n",
      "https://soundcloud.com/aliciajones78\n",
      "\n",
      "https://soundcloud.com/ammartv\n",
      "\n",
      "https://soundcloud.com/avanoticias-xalapa\n",
      "\n",
      "https://soundcloud.com/alexhorne\n",
      "\n",
      "https://soundcloud.com/atw9k\n",
      "\n",
      "https://soundcloud.com/ac360\n",
      "\n",
      "https://soundcloud.com/atif-aslam-official\n",
      "\n",
      "https://soundcloud.com/addcomedy-1\n",
      "\n",
      "https://soundcloud.com/hunters-world\n",
      "\n",
      "https://soundcloud.com/adam-buxton\n",
      "\n",
      "https://soundcloud.com/aspecialthing\n",
      "\n",
      "https://soundcloud.com/amnestyuk\n",
      "\n",
      "https://soundcloud.com/axis-jeff-mills\n",
      "\n",
      "https://soundcloud.com/lovebolly\n"
     ]
    }
   ],
   "source": [
    "def collect_user(playlist_url, playlist_file):\n",
    "    s=Service(ChromeDriverManager().install())\n",
    "    \n",
    "    with open(playlist_file,'w', encoding='utf-8') as fo_playlist:\n",
    "        with open(playlist_url,'r', encoding='utf-8') as fin:\n",
    "            \n",
    "            # column for each csv file\n",
    "            fo_playlist.write('user-name\\tVerified\\tFollower\\tFollowing\\tTrack\\n')\n",
    "    \n",
    "            # run per url to get playlist title and trackID\n",
    "            for url_text in fin.readlines():\n",
    "                time.sleep(sleep_time)\n",
    "                print(url_text)\n",
    "                driver = webdriver.Chrome(service=s) \n",
    "                driver.get(url_text.strip())\n",
    "                sleep(random.randint(3,6))\n",
    "                html_text = driver.page_source\n",
    "                soup = BeautifulSoup(html_text,'lxml')\n",
    "                \n",
    "                #get user name \n",
    "                user_name = soup.find('h2',{'class','profileHeaderInfo__userName'})   \n",
    "                a = \"\"\n",
    "                is_verified = 0\n",
    "                for text in user_name.text.split():\n",
    "                    if \"Verified\" != text:\n",
    "                        a += text\n",
    "                    else:\n",
    "                        is_verified = 1\n",
    "                        fo_playlist.write(a + \"\\t1\\t\")\n",
    "                if is_verified == 0:\n",
    "                    fo_playlist.write(user_name.text.strip() + \"\\t0\\t\")\n",
    "                \n",
    "                #get Follower\n",
    "                info = soup.find_all('div',class_='infoStats__value')\n",
    "                fo_playlist.write(info[0].text.strip() + \"\\t\")\n",
    "                \n",
    "                #Get Following \n",
    "                fo_playlist.write(info[1].text.strip() + \"\\t\")\n",
    "                \n",
    "                #Get track\n",
    "                fo_playlist.write(info[2].text.strip() + \"\\n\")\n",
    "                sleep(random.randint(7,10))\n",
    "                            \n",
    "collect_user('user_urls_file.txt','users.csv')"
   ]
  },
  {
   "cell_type": "code",
   "execution_count": null,
   "id": "ca713c82",
   "metadata": {},
   "outputs": [],
   "source": []
  },
  {
   "cell_type": "code",
   "execution_count": null,
   "id": "0ba95249",
   "metadata": {},
   "outputs": [],
   "source": []
  }
 ],
 "metadata": {
  "kernelspec": {
   "display_name": "Python 3",
   "language": "python",
   "name": "python3"
  },
  "language_info": {
   "codemirror_mode": {
    "name": "ipython",
    "version": 3
   },
   "file_extension": ".py",
   "mimetype": "text/x-python",
   "name": "python",
   "nbconvert_exporter": "python",
   "pygments_lexer": "ipython3",
   "version": "3.8.8"
  }
 },
 "nbformat": 4,
 "nbformat_minor": 5
}
