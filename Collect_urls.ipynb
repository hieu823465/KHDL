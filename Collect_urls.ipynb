{
 "cells": [
  {
   "cell_type": "markdown",
   "id": "714a79e9",
   "metadata": {},
   "source": [
    "# Collect urls"
   ]
  },
  {
   "cell_type": "markdown",
   "id": "34d79dc3",
   "metadata": {},
   "source": [
    "###  Import Library"
   ]
  },
  {
   "cell_type": "code",
   "execution_count": null,
   "id": "41b8c038",
   "metadata": {},
   "outputs": [],
   "source": [
    "import random\n",
    "from time import sleep\n",
    "from selenium.webdriver.support.ui import WebDriverWait     \n",
    "from selenium.webdriver.common.by import By     \n",
    "from selenium.webdriver.support import expected_conditions as EC\n",
    "from selenium import webdriver  "
   ]
  },
  {
   "cell_type": "markdown",
   "id": "06b68aaf",
   "metadata": {},
   "source": [
    "### Collect User urls"
   ]
  },
  {
   "cell_type": "code",
   "execution_count": 31,
   "id": "5c46c18b",
   "metadata": {
    "scrolled": true
   },
   "outputs": [],
   "source": [
    "driver = webdriver.Chrome(executable_path=r'C:\\Users\\ASUS\\Source_ipynb\\chromedriver_win32\\chromedriver.exe')  \n",
    "temp_url = 'https://soundcloud.com/search/people?q='\n",
    "\n",
    "for index_Ascii in range(97,123):\n",
    "    url = temp_url+chr(index_Ascii)\n",
    "    driver.get(url)  \n",
    "    sleep(5)\n",
    "    for i in range(20):\n",
    "        driver.execute_script(\"window.scrollTo(0, 100000)\") \n",
    "        sleep(random.randint(3,6))\n",
    "\n",
    "    elems = driver.find_elements_by_css_selector(\".userItem__title [href]\")\n",
    "    links = [elem.get_attribute('href') for elem in elems]\n",
    "    with open('user_urls_file.txt','a') as fo:\n",
    "        for link in links:\n",
    "            fo.write(link+'\\n')\n",
    "        fo.close()\n",
    "\n",
    "    sleep(random.randint(5,10))\n",
    "\n",
    "driver.close()\n"
   ]
  },
  {
   "cell_type": "markdown",
   "id": "3584d5ac",
   "metadata": {},
   "source": [
    "### Collect Track urls"
   ]
  },
  {
   "cell_type": "code",
   "execution_count": 32,
   "id": "bffb915d",
   "metadata": {},
   "outputs": [],
   "source": [
    "driver = webdriver.Chrome(executable_path=r'C:\\Users\\ASUS\\Source_ipynb\\chromedriver_win32\\chromedriver.exe')  \n",
    "temp_url = 'https://soundcloud.com/search/sounds?q='\n",
    "\n",
    "for index_Ascii in range(97,123):\n",
    "    url = temp_url+chr(index_Ascii)\n",
    "    driver.get(url)  \n",
    "    sleep(random.randint(5,10))\n",
    "    for i in range(20):\n",
    "        driver.execute_script(\"window.scrollTo(0, 100000)\") \n",
    "        sleep(3)\n",
    "\n",
    "    elems = driver.find_elements_by_css_selector(\".sound__coverArt[href]\")\n",
    "    links = [elem.get_attribute('href') for elem in elems]\n",
    "    with open('track_urls_file.txt','a') as fo:\n",
    "        for link in links:\n",
    "            fo.write(link+'\\n')\n",
    "        fo.close()\n",
    "\n",
    "    sleep(random.randint(5,10))\n",
    "\n",
    "driver.close()"
   ]
  },
  {
   "cell_type": "markdown",
   "id": "3489a258",
   "metadata": {},
   "source": [
    "### Collect Playlist urls"
   ]
  },
  {
   "cell_type": "code",
   "execution_count": 34,
   "id": "c33af0f3",
   "metadata": {},
   "outputs": [],
   "source": [
    "driver = webdriver.Chrome(executable_path=r'C:\\Users\\ASUS\\Source_ipynb\\chromedriver_win32\\chromedriver.exe')  \n",
    "temp_url = 'https://soundcloud.com/search/sets?q='\n",
    "\n",
    "for index_Ascii in range(97,123):\n",
    "    url = temp_url+chr(index_Ascii)\n",
    "    driver.get(url)  \n",
    "    sleep(random.randint(5,10))\n",
    "    for i in range(20):\n",
    "        driver.execute_script(\"window.scrollTo(0, 100000)\") \n",
    "        sleep(3)\n",
    "\n",
    "    elems = driver.find_elements_by_css_selector(\".sound__coverArt[href]\")\n",
    "    links = [elem.get_attribute('href') for elem in elems]\n",
    "    with open('playlist_urls_file.txt','a') as fo:\n",
    "        for link in links:\n",
    "            fo.write(link+'\\n')\n",
    "        fo.close()\n",
    "        \n",
    "    sleep(random.randint(5,10))\n",
    "\n",
    "driver.close()"
   ]
  }
 ],
 "metadata": {
  "kernelspec": {
   "display_name": "Python 3 (ipykernel)",
   "language": "python",
   "name": "python3"
  },
  "language_info": {
   "codemirror_mode": {
    "name": "ipython",
    "version": 3
   },
   "file_extension": ".py",
   "mimetype": "text/x-python",
   "name": "python",
   "nbconvert_exporter": "python",
   "pygments_lexer": "ipython3",
   "version": "3.8.8"
  }
 },
 "nbformat": 4,
 "nbformat_minor": 5
}
