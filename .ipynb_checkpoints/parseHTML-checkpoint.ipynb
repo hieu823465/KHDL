{
 "cells": [
  {
   "cell_type": "markdown",
   "id": "356ba172",
   "metadata": {},
   "source": [
    "***\n",
    "## Import"
   ]
  },
  {
   "cell_type": "code",
   "execution_count": null,
   "id": "a7139208",
   "metadata": {},
   "outputs": [],
   "source": []
  },
  {
   "cell_type": "code",
   "execution_count": 2,
   "id": "5f7f19ef",
   "metadata": {},
   "outputs": [],
   "source": [
    "import requests\n",
    "import requests_cache\n",
    "from bs4 import BeautifulSoup\n",
    "import time\n",
    "import json\n",
    "import re\n",
    "import pandas as pd # Dùng để đọc và hiển thị file csv/tsv\n",
    "# YOUR CODE HERE (OPTION) \n",
    "import datetime\n",
    "# Nếu cần các thư viện khác thì bạn có thể import ở đây\n",
    "from selenium import webdriver\n",
    "from selenium.webdriver.chrome.service import Service\n",
    "from webdriver_manager.chrome import ChromeDriverManager\n",
    "\n",
    "import urllib.robotparser # Kiểm tra file robot.txt có được phép crawl không"
   ]
  },
  {
   "cell_type": "code",
   "execution_count": 3,
   "id": "7e4c9d81",
   "metadata": {},
   "outputs": [],
   "source": [
    "sleep_time = 1 # Đơn vị: giây"
   ]
  },
  {
   "cell_type": "markdown",
   "id": "ff1f4a21",
   "metadata": {},
   "source": [
    "## ParseHTML"
   ]
  },
  {
   "cell_type": "code",
   "execution_count": 17,
   "id": "07e4555c",
   "metadata": {},
   "outputs": [
    {
     "name": "stderr",
     "output_type": "stream",
     "text": [
      "\n",
      "\n",
      "====== WebDriver manager ======\n",
      "Current google-chrome version is 95.0.4638\n",
      "Get LATEST chromedriver version for 95.0.4638 google-chrome\n",
      "Driver [/Users/trunghieu/.wdm/drivers/chromedriver/mac64/95.0.4638.69/chromedriver] found in cache\n"
     ]
    }
   ],
   "source": [
    "def collect_playlist(playlist_url, playlist_file):\n",
    "    s=Service(ChromeDriverManager().install())\n",
    "    fo_track = open(playlist_file[2],'w',encoding='utf-8')\n",
    "    fo_user = open(playlist_file[1],'w',encoding='utf-8')\n",
    "    \n",
    "    with open(playlist_file[0],'w', encoding='utf-8') as fo_playlist:\n",
    "        with open(playlist_url,'r', encoding='utf-8') as fin:\n",
    "            \n",
    "            # column for each csv file\n",
    "            fo_playlist.write('playlists\\ttracks\\n')\n",
    "            fo_user.write('user\\ttrack\\tplaylist\\n')\n",
    "    \n",
    "            for url_text in fin.readlines():\n",
    "                #time.sleep(sleep_time)\n",
    "                \n",
    "                driver = webdriver.Chrome(service=s)\n",
    "                driver.get(url_text.strip())\n",
    "                html_text = driver.page_source\n",
    "                \n",
    "                soup = BeautifulSoup(html_text,'lxml')\n",
    "                \n",
    "                #get playlist title\n",
    "                title = soup.find('h1',class_='soundTitle__title').text.strip()\n",
    "                fo_playlist.write(title + \"\\t\")\n",
    "\n",
    "                #get trackIDs\n",
    "                trackItem_username = soup.find_all('a',class_='trackItem__username')\n",
    "                trackItem_title = soup.find_all('a',class_='trackItem__trackTitle')\n",
    "                listTrackId = ''\n",
    "                \n",
    "\n",
    "                \n",
    "                # get tracklist\n",
    "                for index in range(0,len(trackItem_username)):\n",
    "                    if(index != len(trackItem_username)-1):\n",
    "                        listTrackId += trackItem_title[index].text + \",\"\n",
    "                        \n",
    "                        fo_track.write(trackItem_title[index].text + \"\\n\")\n",
    "                        \n",
    "                        fo_user.write(trackItem_username[index].text + \"\\t\")\n",
    "                        fo_user.write(trackItem_title[index].text + \"\\t\")\n",
    "                        fo_user.write(title + \"\\n\")\n",
    "                        \n",
    "                    else:\n",
    "                        listTrackId += trackItem_title[index].text\n",
    "                        \n",
    "                        fo_track.write(trackItem_title[index].text + \"\\n\")\n",
    "                        \n",
    "                        fo_user.write(trackItem_username[index].text + \"\\t\")\n",
    "                        fo_user.write(trackItem_title[index].text + \"\\t\")\n",
    "                        fo_user.write(title + \"\\n\")\n",
    "                        \n",
    "                \n",
    "                    \n",
    "                \n",
    "                fo_playlist.write(listTrackId +\"\\n\")\n",
    "    fo_track.close()\n",
    "    fo_user.close()\n",
    "                    \n",
    "                \n",
    "collect_playlist('url.csv',['playlist.csv','user.csv','track.csv'])"
   ]
  },
  {
   "cell_type": "code",
   "execution_count": null,
   "id": "70bc1b7b",
   "metadata": {},
   "outputs": [],
   "source": []
  },
  {
   "cell_type": "code",
   "execution_count": null,
   "id": "675ba438",
   "metadata": {},
   "outputs": [],
   "source": []
  }
 ],
 "metadata": {
  "kernelspec": {
   "display_name": "Python 3",
   "language": "python",
   "name": "python3"
  },
  "language_info": {
   "codemirror_mode": {
    "name": "ipython",
    "version": 3
   },
   "file_extension": ".py",
   "mimetype": "text/x-python",
   "name": "python",
   "nbconvert_exporter": "python",
   "pygments_lexer": "ipython3",
   "version": "3.8.8"
  }
 },
 "nbformat": 4,
 "nbformat_minor": 5
}
